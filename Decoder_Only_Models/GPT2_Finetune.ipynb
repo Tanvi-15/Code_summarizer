{
 "cells": [
  {
   "cell_type": "code",
   "execution_count": 4,
   "id": "1a2079fa-b09a-4344-a761-39a3ee96b505",
   "metadata": {},
   "outputs": [
    {
     "name": "stderr",
     "output_type": "stream",
     "text": [
      "/home/ra_tanvi/.conda/envs/myenv/lib/python3.10/site-packages/tqdm/auto.py:21: TqdmWarning: IProgress not found. Please update jupyter and ipywidgets. See https://ipywidgets.readthedocs.io/en/stable/user_install.html\n",
      "  from .autonotebook import tqdm as notebook_tqdm\n"
     ]
    },
    {
     "name": "stdout",
     "output_type": "stream",
     "text": [
      "Train size: 164923\n",
      "Validation size: 5183\n"
     ]
    }
   ],
   "source": [
    "from datasets import load_dataset\n",
    "import torch\n",
    "# Load dataset\n",
    "dataset = load_dataset(\"google/code_x_glue_ct_code_to_text\", \"java\")\n",
    "\n",
    "# Reduce size for faster iteration\n",
    "import random\n",
    "train_data = dataset[\"train\"].select(random.sample(range(len(dataset[\"train\"])), k=int(1.0 * len(dataset[\"train\"]))))\n",
    "val_data = dataset[\"validation\"].select(random.sample(range(len(dataset[\"validation\"])), k=int(1.0 * len(dataset[\"validation\"]))))\n",
    "print(\"Train size:\", len(train_data))\n",
    "print(\"Validation size:\", len(val_data))\n"
   ]
  },
  {
   "cell_type": "code",
   "execution_count": 5,
   "id": "f7c7e983-33a7-4b98-863f-ddb1106f8818",
   "metadata": {},
   "outputs": [
    {
     "data": {
      "text/plain": [
       "4"
      ]
     },
     "execution_count": 5,
     "metadata": {},
     "output_type": "execute_result"
    }
   ],
   "source": [
    "from transformers import GPT2Tokenizer\n",
    "\n",
    "tokenizer = GPT2Tokenizer.from_pretrained(\"gpt2\")\n",
    "tokenizer.add_special_tokens({'pad_token': '<pad>', 'sep_token': '<sep>', 'bos_token': '<s>', 'eos_token': '</s>'})\n"
   ]
  },
  {
   "cell_type": "code",
   "execution_count": 6,
   "id": "f0bf3bef-bffa-4e2f-b899-7cf9ffa3d117",
   "metadata": {},
   "outputs": [
    {
     "name": "stderr",
     "output_type": "stream",
     "text": [
      "Map: 100%|███████████████████████████████████████████████████████████████████████████| 164923/164923 [02:46<00:00, 989.97 examples/s]\n",
      "Map: 100%|███████████████████████████████████████████████████████████████████████████████| 5183/5183 [00:05<00:00, 964.31 examples/s]\n"
     ]
    }
   ],
   "source": [
    "def preprocess(example):\n",
    "    code = example[\"code\"]\n",
    "    docstring = example[\"docstring\"]\n",
    "    full_text = f\"<s> {code} </s> <sep> {docstring}\"\n",
    "\n",
    "    # Tokenize the full string\n",
    "    tokens = tokenizer(\n",
    "        full_text,\n",
    "        padding=\"max_length\",\n",
    "        truncation=True,\n",
    "        max_length=512\n",
    "    )\n",
    "\n",
    "    # Copy labels from input_ids\n",
    "    labels = tokens[\"input_ids\"][:]\n",
    "\n",
    "    # Mask out the code portion\n",
    "    sep_id = tokenizer.convert_tokens_to_ids(\"<sep>\")\n",
    "    try:\n",
    "        sep_index = labels.index(sep_id)\n",
    "    except ValueError:\n",
    "        sep_index = 0  # fallback: mask entire sequence\n",
    "\n",
    "    labels[:sep_index + 1] = [-100] * (sep_index + 1)\n",
    "    tokens[\"labels\"] = labels\n",
    "\n",
    "    return tokens\n",
    "train_data = train_data.map(preprocess, remove_columns=train_data.column_names)\n",
    "val_data = val_data.map(preprocess, remove_columns=val_data.column_names)\n",
    "\n",
    "# Convert to PyTorch tensors\n",
    "train_data.set_format(type=\"torch\", columns=[\"input_ids\", \"attention_mask\", \"labels\"])\n",
    "val_data.set_format(type=\"torch\", columns=[\"input_ids\", \"attention_mask\", \"labels\"])\n"
   ]
  },
  {
   "cell_type": "code",
   "execution_count": null,
   "id": "9c83f512-99eb-4cf5-be4a-5e9a3380c5a7",
   "metadata": {},
   "outputs": [
    {
     "name": "stderr",
     "output_type": "stream",
     "text": [
      "The new embeddings will be initialized from a multivariate normal distribution that has old embeddings' mean and covariance. As described in this article: https://nlp.stanford.edu/~johnhew/vocab-expansion.html. To disable this, use `mean_resizing=False`\n"
     ]
    },
    {
     "ename": "NameError",
     "evalue": "name 'torch' is not defined",
     "output_type": "error",
     "traceback": [
      "\u001b[0;31m---------------------------------------------------------------------------\u001b[0m",
      "\u001b[0;31mNameError\u001b[0m                                 Traceback (most recent call last)",
      "Cell \u001b[0;32mIn[11], line 41\u001b[0m\n\u001b[1;32m     30\u001b[0m \u001b[38;5;66;03m# Create the Trainer\u001b[39;00m\n\u001b[1;32m     31\u001b[0m trainer \u001b[38;5;241m=\u001b[39m Trainer(\n\u001b[1;32m     32\u001b[0m     model\u001b[38;5;241m=\u001b[39mmodel,\n\u001b[1;32m     33\u001b[0m     args\u001b[38;5;241m=\u001b[39mtraining_args,\n\u001b[0;32m   (...)\u001b[0m\n\u001b[1;32m     36\u001b[0m     data_collator\u001b[38;5;241m=\u001b[39mdata_collator,\n\u001b[1;32m     37\u001b[0m )\n\u001b[0;32m---> 41\u001b[0m \u001b[38;5;28;01mif\u001b[39;00m \u001b[43mtorch\u001b[49m\u001b[38;5;241m.\u001b[39mcuda\u001b[38;5;241m.\u001b[39mis_available():\n\u001b[1;32m     42\u001b[0m     torch\u001b[38;5;241m.\u001b[39mcuda\u001b[38;5;241m.\u001b[39mempty_cache()\n\u001b[1;32m     43\u001b[0m     torch\u001b[38;5;241m.\u001b[39mcuda\u001b[38;5;241m.\u001b[39mipc_collect()\n",
      "\u001b[0;31mNameError\u001b[0m: name 'torch' is not defined"
     ]
    }
   ],
   "source": [
    "from transformers import GPT2LMHeadModel, Trainer, TrainingArguments, DataCollatorForLanguageModeling\n",
    "import os\n",
    "\n",
    "# Load and resize the pretrained model\n",
    "model = GPT2LMHeadModel.from_pretrained(\"gpt2\")\n",
    "model.resize_token_embeddings(len(tokenizer))  # Resize for new tokens\n",
    "\n",
    "# Optional: Enable progress bar\n",
    "os.environ[\"WANDB_DISABLED\"] = \"true\"  # Disable WandB if accidentally enabled\n",
    "os.environ[\"TRANSFORMERS_NO_ADVISORY_WARNINGS\"] = \"true\"\n",
    "\n",
    "# Define training arguments\n",
    "training_args = TrainingArguments(\n",
    "    output_dir=\"./gpt2-docstring\",\n",
    "    per_device_train_batch_size=4,\n",
    "    per_device_eval_batch_size=4,\n",
    "    num_train_epochs=3,                       \n",
    "    eval_strategy=\"epoch\",                    \n",
    "    save_strategy=\"epoch\",                    \n",
    "    logging_dir=\"./logs\",                      \n",
    "    logging_steps=1,                          \n",
    "    disable_tqdm=False,                       \n",
    "    report_to=\"none\",                         \n",
    "    logging_first_step=True\n",
    ")\n",
    "\n",
    "# Data collator to handle padding and masking\n",
    "data_collator = DataCollatorForLanguageModeling(tokenizer=tokenizer, mlm=False)\n",
    "\n",
    "# Create the Trainer\n",
    "trainer = Trainer(\n",
    "    model=model,\n",
    "    args=training_args,\n",
    "    train_dataset=train_data,\n",
    "    eval_dataset=val_data,\n",
    "    data_collator=data_collator,\n",
    ")\n",
    "\n",
    "\n",
    "\n",
    "if torch.cuda.is_available():\n",
    "    torch.cuda.empty_cache()\n",
    "    torch.cuda.ipc_collect()\n",
    "\n",
    "# ✅ Start training with progress bar\n",
    "trainer.train()\n"
   ]
  },
  {
   "cell_type": "code",
   "execution_count": 7,
   "id": "811686b8-acb2-482b-921d-059957152f43",
   "metadata": {},
   "outputs": [
    {
     "ename": "NameError",
     "evalue": "name 'model' is not defined",
     "output_type": "error",
     "traceback": [
      "\u001b[0;31m---------------------------------------------------------------------------\u001b[0m",
      "\u001b[0;31mNameError\u001b[0m                                 Traceback (most recent call last)",
      "Cell \u001b[0;32mIn[7], line 2\u001b[0m\n\u001b[1;32m      1\u001b[0m \u001b[38;5;66;03m# Save model and tokenizer\u001b[39;00m\n\u001b[0;32m----> 2\u001b[0m \u001b[43mmodel\u001b[49m\u001b[38;5;241m.\u001b[39msave_pretrained(\u001b[38;5;124m\"\u001b[39m\u001b[38;5;124m./gpt2-docstring-model\u001b[39m\u001b[38;5;124m\"\u001b[39m)\n\u001b[1;32m      3\u001b[0m tokenizer\u001b[38;5;241m.\u001b[39msave_pretrained(\u001b[38;5;124m\"\u001b[39m\u001b[38;5;124m./gpt2-docstring-model\u001b[39m\u001b[38;5;124m\"\u001b[39m)\n",
      "\u001b[0;31mNameError\u001b[0m: name 'model' is not defined"
     ]
    }
   ],
   "source": [
    "# Save model and tokenizer\n",
    "model.save_pretrained(\"./gpt2-docstring-model\")\n",
    "tokenizer.save_pretrained(\"./gpt2-docstring-model\")\n"
   ]
  },
  {
   "cell_type": "code",
   "execution_count": 52,
   "id": "81e895bb-a40c-4ad6-887e-3f08a08c2123",
   "metadata": {},
   "outputs": [],
   "source": [
    "from transformers import GPT2LMHeadModel, GPT2Tokenizer\n",
    "\n",
    "# Load the fine-tuned model and tokenizer\n",
    "model = GPT2LMHeadModel.from_pretrained(\"./gpt2-docstring-model\")\n",
    "tokenizer = GPT2Tokenizer.from_pretrained(\"./gpt2-docstring-model\")\n"
   ]
  },
  {
   "cell_type": "code",
   "execution_count": 2,
   "id": "4d2651a5-5151-4ef7-a13c-d7378fd9e3a3",
   "metadata": {},
   "outputs": [],
   "source": [
    "def generate_docstring_few_shot(test_code, max_length=200):\n",
    "    few_shot_prompt = \"\"\"\n",
    "<s> public int add(int a, int b) { return a + b; } </s> <sep> Adds two integers and returns the sum.\n",
    "\n",
    "<s> public int multiply(int a, int b) { return a * b; } </s> <sep> Multiplies two integers and returns the product.\n",
    "\n",
    "<s> public boolean isEven(int num) { return num % 2 == 0; } </s> <sep> Checks if a number is even.\n",
    "\n",
    "<s> public String greet(String name) { return \"Hello \" + name; } </s> <sep> Greets the user by name.\n",
    "\"\"\"\n",
    "\n",
    "    # Append the new example\n",
    "    prompt = few_shot_prompt.strip() + f\"\\n<s> {test_code} </s> <sep>\"\n",
    "\n",
    "    # Tokenize prompt\n",
    "    input_ids = tokenizer.encode(prompt, return_tensors=\"pt\")\n",
    "    input_len = input_ids.shape[1]\n",
    "\n",
    "    # Generate continuation from after the prompt\n",
    "    output_ids = model.generate(\n",
    "        input_ids,\n",
    "        max_length=input_len + 50,  # buffer for generation\n",
    "        num_beams=9,\n",
    "        no_repeat_ngram_size=4,\n",
    "        early_stopping=True,\n",
    "        pad_token_id=tokenizer.eos_token_id\n",
    "    )\n",
    "\n",
    "    # Only decode the newly generated tokens (after prompt)\n",
    "    generated_ids = output_ids[0][input_len:]  # exclude prompt\n",
    "    result = tokenizer.decode(generated_ids, skip_special_tokens=True).strip()\n",
    "\n",
    "    return result\n"
   ]
  },
  {
   "cell_type": "code",
   "execution_count": 3,
   "id": "d18660e7-1f33-409e-ad23-f4b611d1d988",
   "metadata": {},
   "outputs": [
    {
     "ename": "NameError",
     "evalue": "name 'tokenizer' is not defined",
     "output_type": "error",
     "traceback": [
      "\u001b[0;31m---------------------------------------------------------------------------\u001b[0m",
      "\u001b[0;31mNameError\u001b[0m                                 Traceback (most recent call last)",
      "Cell \u001b[0;32mIn[3], line 4\u001b[0m\n\u001b[1;32m      1\u001b[0m \u001b[38;5;66;03m# java_code = \"public boolean isEqual(int a, int b) { return a==b; }\"\u001b[39;00m\n\u001b[1;32m      2\u001b[0m java_code \u001b[38;5;241m=\u001b[39m\u001b[38;5;124m\"\u001b[39m\u001b[38;5;124mpublic int subtract(int a, int b) \u001b[39m\u001b[38;5;124m{\u001b[39m\u001b[38;5;124m return a - b; }\u001b[39m\u001b[38;5;124m\"\u001b[39m\n\u001b[0;32m----> 4\u001b[0m docstring \u001b[38;5;241m=\u001b[39m \u001b[43mgenerate_docstring_few_shot\u001b[49m\u001b[43m(\u001b[49m\u001b[43mjava_code\u001b[49m\u001b[43m)\u001b[49m\n\u001b[1;32m      5\u001b[0m \u001b[38;5;28mprint\u001b[39m(\u001b[38;5;124m\"\u001b[39m\u001b[38;5;124mGenerated docstring:\u001b[39m\u001b[38;5;130;01m\\n\u001b[39;00m\u001b[38;5;124m\"\u001b[39m, docstring)\n",
      "Cell \u001b[0;32mIn[2], line 16\u001b[0m, in \u001b[0;36mgenerate_docstring_few_shot\u001b[0;34m(test_code, max_length)\u001b[0m\n\u001b[1;32m     13\u001b[0m prompt \u001b[38;5;241m=\u001b[39m few_shot_prompt\u001b[38;5;241m.\u001b[39mstrip() \u001b[38;5;241m+\u001b[39m \u001b[38;5;124mf\u001b[39m\u001b[38;5;124m\"\u001b[39m\u001b[38;5;130;01m\\n\u001b[39;00m\u001b[38;5;124m<s> \u001b[39m\u001b[38;5;132;01m{\u001b[39;00mtest_code\u001b[38;5;132;01m}\u001b[39;00m\u001b[38;5;124m </s> <sep>\u001b[39m\u001b[38;5;124m\"\u001b[39m\n\u001b[1;32m     15\u001b[0m \u001b[38;5;66;03m# Tokenize prompt\u001b[39;00m\n\u001b[0;32m---> 16\u001b[0m input_ids \u001b[38;5;241m=\u001b[39m \u001b[43mtokenizer\u001b[49m\u001b[38;5;241m.\u001b[39mencode(prompt, return_tensors\u001b[38;5;241m=\u001b[39m\u001b[38;5;124m\"\u001b[39m\u001b[38;5;124mpt\u001b[39m\u001b[38;5;124m\"\u001b[39m)\n\u001b[1;32m     17\u001b[0m input_len \u001b[38;5;241m=\u001b[39m input_ids\u001b[38;5;241m.\u001b[39mshape[\u001b[38;5;241m1\u001b[39m]\n\u001b[1;32m     19\u001b[0m \u001b[38;5;66;03m# Generate continuation from after the prompt\u001b[39;00m\n",
      "\u001b[0;31mNameError\u001b[0m: name 'tokenizer' is not defined"
     ]
    }
   ],
   "source": [
    "# java_code = \"public boolean isEqual(int a, int b) { return a==b; }\"\n",
    "java_code =\"public int subtract(int a, int b) { return a - b; }\"\n",
    "\n",
    "docstring = generate_docstring_few_shot(java_code)\n",
    "print(\"Generated docstring:\\n\", docstring)\n"
   ]
  }
 ],
 "metadata": {
  "kernelspec": {
   "display_name": "Python 3 (ipykernel)",
   "language": "python",
   "name": "python3"
  },
  "language_info": {
   "codemirror_mode": {
    "name": "ipython",
    "version": 3
   },
   "file_extension": ".py",
   "mimetype": "text/x-python",
   "name": "python",
   "nbconvert_exporter": "python",
   "pygments_lexer": "ipython3",
   "version": "3.10.16"
  }
 },
 "nbformat": 4,
 "nbformat_minor": 5
}
