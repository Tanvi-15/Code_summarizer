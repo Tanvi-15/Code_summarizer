{
  "nbformat": 4,
  "nbformat_minor": 0,
  "metadata": {
    "colab": {
      "provenance": [],
      "toc_visible": true
    },
    "kernelspec": {
      "name": "python3",
      "display_name": "Python 3"
    },
    "language_info": {
      "name": "python"
    }
  },
  "cells": [
    {
      "cell_type": "markdown",
      "metadata": {
        "id": "c6af94f0"
      },
      "source": [
        "# Fine-tuning CodeT5 for Java Code Summarization"
      ]
    },
    {
      "cell_type": "markdown",
      "source": [
        "**INSTALL LIBRARIES**\n",
        "----------------------\n",
        "----------------------\n",
        "----------------------\n",
        "----------------------"
      ],
      "metadata": {
        "id": "8i-bWJ8IaR2h"
      }
    },
    {
      "cell_type": "code",
      "execution_count": null,
      "metadata": {
        "id": "71856a92",
        "colab": {
          "base_uri": "https://localhost:8080/"
        },
        "outputId": "0190db46-45dc-4479-e206-246c07682366"
      },
      "outputs": [
        {
          "output_type": "stream",
          "name": "stdout",
          "text": [
            "  Preparing metadata (setup.py) ... \u001b[?25l\u001b[?25hdone\n",
            "\u001b[2K   \u001b[90m━━━━━━━━━━━━━━━━━━━━━━━━━━━━━━━━━━━━━━━━\u001b[0m \u001b[32m491.2/491.2 kB\u001b[0m \u001b[31m7.2 MB/s\u001b[0m eta \u001b[36m0:00:00\u001b[0m\n",
            "\u001b[2K   \u001b[90m━━━━━━━━━━━━━━━━━━━━━━━━━━━━━━━━━━━━━━━━\u001b[0m \u001b[32m84.0/84.0 kB\u001b[0m \u001b[31m2.6 MB/s\u001b[0m eta \u001b[36m0:00:00\u001b[0m\n",
            "\u001b[2K   \u001b[90m━━━━━━━━━━━━━━━━━━━━━━━━━━━━━━━━━━━━━━━━\u001b[0m \u001b[32m61.1/61.1 kB\u001b[0m \u001b[31m3.1 MB/s\u001b[0m eta \u001b[36m0:00:00\u001b[0m\n",
            "\u001b[2K   \u001b[90m━━━━━━━━━━━━━━━━━━━━━━━━━━━━━━━━━━━━━━━━\u001b[0m \u001b[32m116.3/116.3 kB\u001b[0m \u001b[31m2.5 MB/s\u001b[0m eta \u001b[36m0:00:00\u001b[0m\n",
            "\u001b[2K   \u001b[90m━━━━━━━━━━━━━━━━━━━━━━━━━━━━━━━━━━━━━━━━\u001b[0m \u001b[32m183.9/183.9 kB\u001b[0m \u001b[31m7.6 MB/s\u001b[0m eta \u001b[36m0:00:00\u001b[0m\n",
            "\u001b[2K   \u001b[90m━━━━━━━━━━━━━━━━━━━━━━━━━━━━━━━━━━━━━━━━\u001b[0m \u001b[32m143.5/143.5 kB\u001b[0m \u001b[31m6.8 MB/s\u001b[0m eta \u001b[36m0:00:00\u001b[0m\n",
            "\u001b[2K   \u001b[90m━━━━━━━━━━━━━━━━━━━━━━━━━━━━━━━━━━━━━━━━\u001b[0m \u001b[32m363.4/363.4 MB\u001b[0m \u001b[31m3.3 MB/s\u001b[0m eta \u001b[36m0:00:00\u001b[0m\n",
            "\u001b[2K   \u001b[90m━━━━━━━━━━━━━━━━━━━━━━━━━━━━━━━━━━━━━━━━\u001b[0m \u001b[32m13.8/13.8 MB\u001b[0m \u001b[31m14.2 MB/s\u001b[0m eta \u001b[36m0:00:00\u001b[0m\n",
            "\u001b[2K   \u001b[90m━━━━━━━━━━━━━━━━━━━━━━━━━━━━━━━━━━━━━━━━\u001b[0m \u001b[32m24.6/24.6 MB\u001b[0m \u001b[31m29.2 MB/s\u001b[0m eta \u001b[36m0:00:00\u001b[0m\n",
            "\u001b[2K   \u001b[90m━━━━━━━━━━━━━━━━━━━━━━━━━━━━━━━━━━━━━━━━\u001b[0m \u001b[32m883.7/883.7 kB\u001b[0m \u001b[31m23.6 MB/s\u001b[0m eta \u001b[36m0:00:00\u001b[0m\n",
            "\u001b[2K   \u001b[90m━━━━━━━━━━━━━━━━━━━━━━━━━━━━━━━━━━━━━━━━\u001b[0m \u001b[32m664.8/664.8 MB\u001b[0m \u001b[31m2.4 MB/s\u001b[0m eta \u001b[36m0:00:00\u001b[0m\n",
            "\u001b[2K   \u001b[90m━━━━━━━━━━━━━━━━━━━━━━━━━━━━━━━━━━━━━━━━\u001b[0m \u001b[32m211.5/211.5 MB\u001b[0m \u001b[31m6.0 MB/s\u001b[0m eta \u001b[36m0:00:00\u001b[0m\n",
            "\u001b[2K   \u001b[90m━━━━━━━━━━━━━━━━━━━━━━━━━━━━━━━━━━━━━━━━\u001b[0m \u001b[32m56.3/56.3 MB\u001b[0m \u001b[31m11.4 MB/s\u001b[0m eta \u001b[36m0:00:00\u001b[0m\n",
            "\u001b[2K   \u001b[90m━━━━━━━━━━━━━━━━━━━━━━━━━━━━━━━━━━━━━━━━\u001b[0m \u001b[32m127.9/127.9 MB\u001b[0m \u001b[31m7.4 MB/s\u001b[0m eta \u001b[36m0:00:00\u001b[0m\n",
            "\u001b[2K   \u001b[90m━━━━━━━━━━━━━━━━━━━━━━━━━━━━━━━━━━━━━━━━\u001b[0m \u001b[32m207.5/207.5 MB\u001b[0m \u001b[31m4.7 MB/s\u001b[0m eta \u001b[36m0:00:00\u001b[0m\n",
            "\u001b[2K   \u001b[90m━━━━━━━━━━━━━━━━━━━━━━━━━━━━━━━━━━━━━━━━\u001b[0m \u001b[32m21.1/21.1 MB\u001b[0m \u001b[31m18.1 MB/s\u001b[0m eta \u001b[36m0:00:00\u001b[0m\n",
            "\u001b[2K   \u001b[90m━━━━━━━━━━━━━━━━━━━━━━━━━━━━━━━━━━━━━━━━\u001b[0m \u001b[32m194.8/194.8 kB\u001b[0m \u001b[31m8.5 MB/s\u001b[0m eta \u001b[36m0:00:00\u001b[0m\n",
            "\u001b[?25h  Building wheel for rouge_score (setup.py) ... \u001b[?25l\u001b[?25hdone\n",
            "\u001b[31mERROR: pip's dependency resolver does not currently take into account all the packages that are installed. This behaviour is the source of the following dependency conflicts.\n",
            "gcsfs 2025.3.2 requires fsspec==2025.3.2, but you have fsspec 2024.12.0 which is incompatible.\u001b[0m\u001b[31m\n",
            "\u001b[0m"
          ]
        }
      ],
      "source": [
        "\n",
        "!pip install transformers datasets evaluate rouge_score bert_score --quiet\n"
      ]
    },
    {
      "cell_type": "code",
      "source": [
        "pip install --upgrade transformers"
      ],
      "metadata": {
        "colab": {
          "base_uri": "https://localhost:8080/"
        },
        "id": "DsIrBKesujOb",
        "outputId": "3506fdf8-36e6-4c75-83b1-f30b4eb013b1"
      },
      "execution_count": null,
      "outputs": [
        {
          "output_type": "stream",
          "name": "stdout",
          "text": [
            "Requirement already satisfied: transformers in /usr/local/lib/python3.11/dist-packages (4.51.3)\n",
            "Requirement already satisfied: filelock in /usr/local/lib/python3.11/dist-packages (from transformers) (3.18.0)\n",
            "Requirement already satisfied: huggingface-hub<1.0,>=0.30.0 in /usr/local/lib/python3.11/dist-packages (from transformers) (0.30.2)\n",
            "Requirement already satisfied: numpy>=1.17 in /usr/local/lib/python3.11/dist-packages (from transformers) (2.0.2)\n",
            "Requirement already satisfied: packaging>=20.0 in /usr/local/lib/python3.11/dist-packages (from transformers) (24.2)\n",
            "Requirement already satisfied: pyyaml>=5.1 in /usr/local/lib/python3.11/dist-packages (from transformers) (6.0.2)\n",
            "Requirement already satisfied: regex!=2019.12.17 in /usr/local/lib/python3.11/dist-packages (from transformers) (2024.11.6)\n",
            "Requirement already satisfied: requests in /usr/local/lib/python3.11/dist-packages (from transformers) (2.32.3)\n",
            "Requirement already satisfied: tokenizers<0.22,>=0.21 in /usr/local/lib/python3.11/dist-packages (from transformers) (0.21.1)\n",
            "Requirement already satisfied: safetensors>=0.4.3 in /usr/local/lib/python3.11/dist-packages (from transformers) (0.5.3)\n",
            "Requirement already satisfied: tqdm>=4.27 in /usr/local/lib/python3.11/dist-packages (from transformers) (4.67.1)\n",
            "Requirement already satisfied: fsspec>=2023.5.0 in /usr/local/lib/python3.11/dist-packages (from huggingface-hub<1.0,>=0.30.0->transformers) (2024.12.0)\n",
            "Requirement already satisfied: typing-extensions>=3.7.4.3 in /usr/local/lib/python3.11/dist-packages (from huggingface-hub<1.0,>=0.30.0->transformers) (4.13.2)\n",
            "Requirement already satisfied: charset-normalizer<4,>=2 in /usr/local/lib/python3.11/dist-packages (from requests->transformers) (3.4.1)\n",
            "Requirement already satisfied: idna<4,>=2.5 in /usr/local/lib/python3.11/dist-packages (from requests->transformers) (3.10)\n",
            "Requirement already satisfied: urllib3<3,>=1.21.1 in /usr/local/lib/python3.11/dist-packages (from requests->transformers) (2.3.0)\n",
            "Requirement already satisfied: certifi>=2017.4.17 in /usr/local/lib/python3.11/dist-packages (from requests->transformers) (2025.1.31)\n"
          ]
        }
      ]
    },
    {
      "cell_type": "markdown",
      "source": [
        "**MOUNT DRIVE**\n",
        "----------------------\n",
        "----------------------\n",
        "----------------------\n",
        "----------------------"
      ],
      "metadata": {
        "id": "zQ5vqhFcrBrV"
      }
    },
    {
      "cell_type": "code",
      "execution_count": null,
      "metadata": {
        "colab": {
          "base_uri": "https://localhost:8080/"
        },
        "id": "c02b022b",
        "outputId": "cf8678f9-6915-484d-808f-283eeaba734c"
      },
      "outputs": [
        {
          "output_type": "stream",
          "name": "stdout",
          "text": [
            "Mounted at /content/drive\n"
          ]
        }
      ],
      "source": [
        "\n",
        "from google.colab import drive\n",
        "drive.mount('/content/drive')"
      ]
    },
    {
      "cell_type": "markdown",
      "source": [
        "**LOAD HF DATASET**\n",
        "----------------------\n",
        "----------------------\n",
        "----------------------\n",
        "----------------------"
      ],
      "metadata": {
        "id": "a1pSzJiqukqf"
      }
    },
    {
      "cell_type": "code",
      "execution_count": null,
      "metadata": {
        "id": "857558e9",
        "colab": {
          "base_uri": "https://localhost:8080/",
          "height": 621,
          "referenced_widgets": [
            "c8aaa1987d9a435eaf73d2443ad3cff0",
            "9cc863e3c5d3423996ca3160c9508b12",
            "7baf2a5705544ce1a514f0e3d57a1831",
            "5f51c7accee94280a6a1690a932e697e",
            "fb7f2bba725c4c1a90a8fbe7dae7d1bf",
            "1cc9670f0883439c93855c8f9adfe4f6",
            "7104e6fd9c1544708eb4d52c68737e3c",
            "1247d0caef014558b18c35ef2f6e7728",
            "65194950a0044ac8b57b3f9a24507470",
            "bccca2b0a0644a8bb530eac8beab74da",
            "6d1c9393fce3494688454bc8ed6865bb",
            "07e2c0a4dd7d4b87b5cba7e1c6949948",
            "d32f2e05bf4f46fcab1405df96396788",
            "acdc513e4696484685ec53ba88c0b65a",
            "55551395a6d149babd7e2034b2b29197",
            "3d13bfbc41474c78a362dd9001db7a80",
            "5ac29bebe18e4fd186d76ff749e55aa3",
            "432c9d3b627d48fdb93be493967577d0",
            "26defa309a2b40558fb7b86a86deca82",
            "5c046efc97fa48f5922316f96130c0c2",
            "ca9673f91d474ab59a9c9402b4ca4812",
            "de6a844d61c84bfe8eefee64561ada11",
            "51eaff61c84d490cae0afe39660dee3a",
            "c6b779bc0fb34a568aebc0806b226423",
            "95ac0ebc60ab4c1d95ad9b0540190e1f",
            "98159548b4e44e22a7a49cbe3fab13ee",
            "e45223a05ff0428ca40c7bba02270162",
            "b7f870b4080b45d48533688bb1ad4bb4",
            "a916cef215514ab98b02ddde7f07a75b",
            "9b533cfb0be34138ab2e4b7c6225b946",
            "faab69c85d1548cda6e7abdb4f8aa3ce",
            "2d49b3bfbc3845f48231e3792f5faf77",
            "efc1029a531b48e0bb94e91d47fa1f86",
            "64de72e70b6a4c1f95922d79bd97f64e",
            "2dfb47dbf223409db52c329a607b769b",
            "f5ae4752fc1c4ad199f8607f342e1d35",
            "54fdaee99570449c8de9477707a3588c",
            "e8c30c82a7844b7686d5858e2b6f5ded",
            "5490706c28944d5cadf32d0df2e6a662",
            "7d64ed49a956463abaa5923422f43005",
            "97f55ac673784ceda343e23a20305b52",
            "236b928758a947d29741428d5819a2c1",
            "40927d9e1fea41abb4f2e0d5138fbf5d",
            "08d7c6c8b1474b81af6d49808c82b288",
            "1a25f99642cb422da66bdc8ae5c437a6",
            "232fc9737b08482d910d9b96801797c5",
            "d1f8637efbd641308055026739c764e9",
            "a3185ed2691a4f5d8097aa555d2ec479",
            "66160ecdd3c74f43ae99ed899a6ffa50",
            "0ef0a5c003964866ae6ebc21c13f83ec",
            "365a0168b0a248f58f7c4bafcb458882",
            "b0afe1fd4b44497287304300faafe352",
            "03df6ab0f636464bab4b368ddf1f45e9",
            "073d7826e89742ec936aa244e1b0c281",
            "8fc9ad55b1b64f1fbfd79f260f03ecd4",
            "9c5cb211db55437995056d280c210acd",
            "f831dae4f7e8461894d7a965cbf752b3",
            "4899d184aa804d9f8178ecb7e63fd103",
            "82e9e0ab7cb64b1c88ce9a0b6e2ce729",
            "865b195ab761403e8a0875b97bcf9a8c",
            "8ab499d3252848728818e8ed64a120bd",
            "d3911d52cc774cd1ba46517873194ef5",
            "b89b4b72bb8e4a13aea3363a5d5e645e",
            "d1cfd2e43bcb4fec837e1147a12a5770",
            "9bba944f1cc246e1bf4db89e0b25d9c0",
            "af31c04d184546858eff4a0f546ae087",
            "d27cbb5d250d4317b34487a58a4ce4c2",
            "2f33722e5c824695bae694486b2eb73c",
            "2a815f1fb91e43a88ab7ae00afaeb4b1",
            "4ad8601cd99c4417a8b0b5fb53617fa5",
            "eb7e955af382416a8ce1f73510f8b782",
            "aed5eaa18a5f4db2ac6ed083afe94eb9",
            "b61e664ed9c04d6988fad4e8113d8a83",
            "a0918a86184c4ad2a062567cdbb1bf89",
            "1af1328c2cfc45bcbb51abc0f434600f",
            "5d2a70c395a24a318cde52d0319df5a4",
            "83721722b2164ea5a31a1959f4748c9a",
            "40a84adc1dd04b81b12f8ebbddad8e1f",
            "072f6b133ba9426781aab45b3868cd93",
            "3f6ec8c25939400c8e964117154676b3",
            "f1398c95832342c6b9219faa7a625e36",
            "5c7e836d7e4c4051973255044dbc6e9d",
            "d6229a8e39f1460ca858f85bb090f45c",
            "e037dd495db6493981941c41a0bb7f6a",
            "840b873aeda24225a389f4084e20446d",
            "db27402b3f4848ca8250b7b55c01fc3b",
            "2a0e12bc98b743fb814dd68ca19f0264",
            "a27836c7458f473b9fdd534a672247e9",
            "421c84eccd5441fd9fb2a36ddbbc963c",
            "94d534c940924657b138573984e560c1",
            "f399a12e447d45a09ade103806aab2c5",
            "fe06affe3ecd47bb8a370c5d53415bdd",
            "d7bb384346754d049c897668eb42c8d3",
            "112351d3ca614e268acd538a8b0bb935",
            "f5a1ec3bb4054ad7ac216103df109a3f",
            "404b04d241fb48949bff8e7c8872e1e6",
            "4c9e6d02c77349889f655d34b4095978",
            "326cb03ef6ad4686a2a42aa0c9745d2b",
            "d3cd6886f33547fa8d473a4b6865ab8b",
            "96460fff406d41649e806afc2071c65f",
            "c83ef8a007d34a99ac978486ac107bd9",
            "e0860e17d0fd40159f97b2a3539cc6ee",
            "e2cc4d3e38004cad9423e1826911af7e",
            "2da1f4db50704e95840ded4fc1635c41",
            "6ffe9f4c94b146479b4228e59561dd8d",
            "f8f3caf047324b3ebe64763069ddfdf2",
            "327d50b7440a4d85981b6b91bacbcc5c",
            "bfb4c8ec4eb94fff8826a506c0df264f",
            "c504b673c43f485eaef0c57f78f64a85",
            "8b1c80afc16445a085df2fd3bd09da6a",
            "2d75bf6482bf42a8863e14d42b336b4d",
            "2cdec4f098094a3ba934205f5f828c5a",
            "7bbcf8e381154eabbbff916cb88daa04",
            "fa73d7b7e82f4f019ac78fbac8f3a4c4",
            "046561ec59894282ad0eef7edc41696f",
            "5c087ed8ae9a4fd694c83a72f9a44f1c",
            "7ea50d692761444daeafb976fb440bff",
            "97882235cc6a4e28a7897817a89983f8",
            "ed06978e8497404f99ff1fa74c98fe60",
            "f3d161b73c2f4047907bfb756aa72414",
            "8d576cc8d4654ff8967a97aff9b7d673",
            "6d8fd32434a645ce8207d357a0090695",
            "3d87cd63b07640f88420267dfe4388f7",
            "3290e75c2fc742e792fae056e14d231e",
            "13c89a370b2642798a1ab1765b5137f9",
            "9d893f7e23f943c1821e98f0a4d39a61",
            "a00498c910dd4133a7ceaa96e4b1a4c4",
            "e8af415fe8f04ba18635dccbb2d2263b",
            "0a64d52a9e744a75901599b4640496b5",
            "4b5409e210c74e278b3c4aef057505ab",
            "ec414d0ee3fc4266bdc1301236e24fd1",
            "72c5a4264ebe42289e20afab7ee1ec47",
            "612c55dff6da4b479fb9f85b08e1c7a7",
            "7f683ad82caf4892854e684da7684957",
            "a59efa0e365e4efba576dd9071b0e4c3",
            "b2ddee886fe346a08805e6302f57f052",
            "bf843693b72449dcadff2cc3a76d2dc8",
            "16969b9b998d4830bddc69df09f324cb",
            "ede7c6c24c664268a357c58855d86130",
            "3498163e60624c8792d467ddc131417e",
            "8b9429769aa846a8baa4531e2a969146",
            "2f62d7fcdb4746d89252ed10b2a32bd9",
            "e2ff34cbdeef48619e07f2d87de9d4e3",
            "910e0271fa4b4d669cc89c9da25d8a25",
            "6242325f57aa41d9bc6c9dc8a0efcf16",
            "1ee7d5c8739a4d7d83dea9ccc0c6b2d6",
            "ec8609ad9b194b8fa63313648f08119a",
            "3154004690c34f03b0910da908f3f97b",
            "22caad1f8d0742c4a407947865b33ffd",
            "f36ef0ac519e498c9a3b44338601b888",
            "848e000b19104a699bb81c07eb5e6548",
            "43c6d7bdb3f64ebf8b5b90f1e0ebeb6a",
            "036b8b7ba79d4bf7b908c4e209e5b571",
            "2ef7779fd9904712927c05b86620cb32",
            "cc079eeb70a34159b1bb4e1e7ce17912",
            "d732b1d6165b470193e4e73317aa8b9d",
            "6828306b343744f78e128a261bad52d0",
            "c989cc3aa2774fd0b061e3d7a67d7104",
            "1d9a7a40bbd247a991373f09ff5cf74d",
            "93b47d34d2084a3ea0e15438ec281770",
            "3d062e36e227478caa4a4555eaa7189c",
            "f7f412eba93f4a63bc07234e6bb81488",
            "1046bffeeb334354955338fbdbe1cfd3",
            "0133526fc19b4b83906a6a1b76b3bd99",
            "40d23406643348dba64fa89a169a31d4"
          ]
        },
        "outputId": "927c2937-90ec-4be9-8e01-705d93db67de",
        "collapsed": true
      },
      "outputs": [
        {
          "output_type": "stream",
          "name": "stderr",
          "text": [
            "/usr/local/lib/python3.11/dist-packages/huggingface_hub/utils/_auth.py:94: UserWarning: \n",
            "The secret `HF_TOKEN` does not exist in your Colab secrets.\n",
            "To authenticate with the Hugging Face Hub, create a token in your settings tab (https://huggingface.co/settings/tokens), set it as secret in your Google Colab and restart your session.\n",
            "You will be able to reuse this secret in all of your notebooks.\n",
            "Please note that authentication is recommended but still optional to access public models or datasets.\n",
            "  warnings.warn(\n"
          ]
        },
        {
          "output_type": "display_data",
          "data": {
            "text/plain": [
              "README.md:   0%|          | 0.00/26.7k [00:00<?, ?B/s]"
            ],
            "application/vnd.jupyter.widget-view+json": {
              "version_major": 2,
              "version_minor": 0,
              "model_id": "c8aaa1987d9a435eaf73d2443ad3cff0"
            }
          },
          "metadata": {}
        },
        {
          "output_type": "display_data",
          "data": {
            "text/plain": [
              "train-00000-of-00001.parquet:   0%|          | 0.00/141M [00:00<?, ?B/s]"
            ],
            "application/vnd.jupyter.widget-view+json": {
              "version_major": 2,
              "version_minor": 0,
              "model_id": "07e2c0a4dd7d4b87b5cba7e1c6949948"
            }
          },
          "metadata": {}
        },
        {
          "output_type": "display_data",
          "data": {
            "text/plain": [
              "validation-00000-of-00001.parquet:   0%|          | 0.00/4.25M [00:00<?, ?B/s]"
            ],
            "application/vnd.jupyter.widget-view+json": {
              "version_major": 2,
              "version_minor": 0,
              "model_id": "51eaff61c84d490cae0afe39660dee3a"
            }
          },
          "metadata": {}
        },
        {
          "output_type": "display_data",
          "data": {
            "text/plain": [
              "test-00000-of-00001.parquet:   0%|          | 0.00/9.38M [00:00<?, ?B/s]"
            ],
            "application/vnd.jupyter.widget-view+json": {
              "version_major": 2,
              "version_minor": 0,
              "model_id": "64de72e70b6a4c1f95922d79bd97f64e"
            }
          },
          "metadata": {}
        },
        {
          "output_type": "display_data",
          "data": {
            "text/plain": [
              "Generating train split:   0%|          | 0/164923 [00:00<?, ? examples/s]"
            ],
            "application/vnd.jupyter.widget-view+json": {
              "version_major": 2,
              "version_minor": 0,
              "model_id": "1a25f99642cb422da66bdc8ae5c437a6"
            }
          },
          "metadata": {}
        },
        {
          "output_type": "display_data",
          "data": {
            "text/plain": [
              "Generating validation split:   0%|          | 0/5183 [00:00<?, ? examples/s]"
            ],
            "application/vnd.jupyter.widget-view+json": {
              "version_major": 2,
              "version_minor": 0,
              "model_id": "9c5cb211db55437995056d280c210acd"
            }
          },
          "metadata": {}
        },
        {
          "output_type": "display_data",
          "data": {
            "text/plain": [
              "Generating test split:   0%|          | 0/10955 [00:00<?, ? examples/s]"
            ],
            "application/vnd.jupyter.widget-view+json": {
              "version_major": 2,
              "version_minor": 0,
              "model_id": "d27cbb5d250d4317b34487a58a4ce4c2"
            }
          },
          "metadata": {}
        },
        {
          "output_type": "display_data",
          "data": {
            "text/plain": [
              "tokenizer_config.json:   0%|          | 0.00/1.48k [00:00<?, ?B/s]"
            ],
            "application/vnd.jupyter.widget-view+json": {
              "version_major": 2,
              "version_minor": 0,
              "model_id": "40a84adc1dd04b81b12f8ebbddad8e1f"
            }
          },
          "metadata": {}
        },
        {
          "output_type": "display_data",
          "data": {
            "text/plain": [
              "vocab.json:   0%|          | 0.00/703k [00:00<?, ?B/s]"
            ],
            "application/vnd.jupyter.widget-view+json": {
              "version_major": 2,
              "version_minor": 0,
              "model_id": "421c84eccd5441fd9fb2a36ddbbc963c"
            }
          },
          "metadata": {}
        },
        {
          "output_type": "display_data",
          "data": {
            "text/plain": [
              "merges.txt:   0%|          | 0.00/294k [00:00<?, ?B/s]"
            ],
            "application/vnd.jupyter.widget-view+json": {
              "version_major": 2,
              "version_minor": 0,
              "model_id": "96460fff406d41649e806afc2071c65f"
            }
          },
          "metadata": {}
        },
        {
          "output_type": "display_data",
          "data": {
            "text/plain": [
              "added_tokens.json:   0%|          | 0.00/2.00 [00:00<?, ?B/s]"
            ],
            "application/vnd.jupyter.widget-view+json": {
              "version_major": 2,
              "version_minor": 0,
              "model_id": "2d75bf6482bf42a8863e14d42b336b4d"
            }
          },
          "metadata": {}
        },
        {
          "output_type": "display_data",
          "data": {
            "text/plain": [
              "special_tokens_map.json:   0%|          | 0.00/12.5k [00:00<?, ?B/s]"
            ],
            "application/vnd.jupyter.widget-view+json": {
              "version_major": 2,
              "version_minor": 0,
              "model_id": "6d8fd32434a645ce8207d357a0090695"
            }
          },
          "metadata": {}
        },
        {
          "output_type": "display_data",
          "data": {
            "text/plain": [
              "config.json:   0%|          | 0.00/1.57k [00:00<?, ?B/s]"
            ],
            "application/vnd.jupyter.widget-view+json": {
              "version_major": 2,
              "version_minor": 0,
              "model_id": "612c55dff6da4b479fb9f85b08e1c7a7"
            }
          },
          "metadata": {}
        },
        {
          "output_type": "display_data",
          "data": {
            "text/plain": [
              "pytorch_model.bin:   0%|          | 0.00/892M [00:00<?, ?B/s]"
            ],
            "application/vnd.jupyter.widget-view+json": {
              "version_major": 2,
              "version_minor": 0,
              "model_id": "910e0271fa4b4d669cc89c9da25d8a25"
            }
          },
          "metadata": {}
        },
        {
          "output_type": "display_data",
          "data": {
            "text/plain": [
              "model.safetensors:   0%|          | 0.00/892M [00:00<?, ?B/s]"
            ],
            "application/vnd.jupyter.widget-view+json": {
              "version_major": 2,
              "version_minor": 0,
              "model_id": "cc079eeb70a34159b1bb4e1e7ce17912"
            }
          },
          "metadata": {}
        }
      ],
      "source": [
        "import torch\n",
        "from datasets import load_dataset\n",
        "from transformers import AutoTokenizer, AutoModelForSeq2SeqLM, Seq2SeqTrainingArguments, Seq2SeqTrainer\n",
        "\n",
        "dataset = load_dataset(\"code_x_glue_ct_code_to_text\", \"java\")\n",
        "\n",
        "tokenizer = AutoTokenizer.from_pretrained(\"Salesforce/codet5-base\")\n",
        "model = AutoModelForSeq2SeqLM.from_pretrained(\"Salesforce/codet5-base\")\n"
      ]
    },
    {
      "cell_type": "markdown",
      "source": [
        "**PREPROCESS DATASET**\n",
        "----------------------\n",
        "----------------------\n",
        "----------------------\n",
        "----------------------"
      ],
      "metadata": {
        "id": "6TI3J3m2skKL"
      }
    },
    {
      "cell_type": "code",
      "execution_count": null,
      "metadata": {
        "id": "1d30110b"
      },
      "outputs": [],
      "source": [
        "label_pad_token_id = -100\n",
        "max_input_length = 512\n",
        "max_target_length = 128\n",
        "\n",
        "# Normalize whitespace\n",
        "# Cleans up extra spaces by collapsing multiple spaces/tabs/newlines into a single space and trimming leading/trailing spaces.\n",
        "def normalize_whitespace(text: str):\n",
        "    return \" \".join(text.strip().split())\n",
        "\n",
        "# Preprocessing function\n",
        "def preprocess(example):\n",
        "    code = normalize_whitespace(example[\"code\"])\n",
        "    summary = normalize_whitespace(example[\"docstring\"])\n",
        "\n",
        "    model_inputs = tokenizer(code, max_length=max_input_length, padding=\"max_length\", truncation=True)\n",
        "\n",
        "    with tokenizer.as_target_tokenizer():\n",
        "        labels = tokenizer(summary, max_length=max_target_length, padding=\"max_length\", truncation=True)\n",
        "\n",
        "    # Replaces padding tokens with ID -100 which ensures that they are not considered while computing loss\n",
        "    labels[\"input_ids\"] = [(label if label != tokenizer.pad_token_id else label_pad_token_id) for label in labels[\"input_ids\"]]\n",
        "    model_inputs[\"labels\"] = labels[\"input_ids\"]\n",
        "\n",
        "    return model_inputs"
      ]
    },
    {
      "cell_type": "code",
      "source": [
        "# Apply preprocessingon all dataset splits\n",
        "train_dataset = dataset[\"train\"].map(preprocess, batched=True, remove_columns=[\"code\", \"docstring\"])\n",
        "val_dataset = dataset[\"validation\"].map(preprocess, batched=True, remove_columns=[\"code\", \"docstring\"])\n",
        "test_dataset = dataset[\"test\"].map(preprocess, batched=True, remove_columns=[\"code\", \"docstring\"])"
      ],
      "metadata": {
        "id": "jLnd8FEIoLl3"
      },
      "execution_count": null,
      "outputs": []
    },
    {
      "cell_type": "markdown",
      "source": [
        "**TRAIN MODEL**\n",
        "----------------------\n",
        "----------------------\n",
        "----------------------\n",
        "----------------------"
      ],
      "metadata": {
        "id": "Axz14mzstEAB"
      }
    },
    {
      "cell_type": "code",
      "execution_count": null,
      "metadata": {
        "colab": {
          "base_uri": "https://localhost:8080/",
          "height": 211
        },
        "id": "faccccf4",
        "outputId": "2816f070-2f16-4e94-e14d-8087e17b2989",
        "collapsed": true
      },
      "outputs": [
        {
          "output_type": "error",
          "ename": "TypeError",
          "evalue": "Seq2SeqTrainingArguments.__init__() got an unexpected keyword argument 'evaluation_strategy'",
          "traceback": [
            "\u001b[0;31m---------------------------------------------------------------------------\u001b[0m",
            "\u001b[0;31mTypeError\u001b[0m                                 Traceback (most recent call last)",
            "\u001b[0;32m<ipython-input-6-0f42697cab0a>\u001b[0m in \u001b[0;36m<cell line: 0>\u001b[0;34m()\u001b[0m\n\u001b[1;32m      3\u001b[0m \u001b[0;34m\u001b[0m\u001b[0m\n\u001b[1;32m      4\u001b[0m \u001b[0;31m# Training configuration for Seq2Seq model with checkpointing every quarter epoch, logging, and mixed-precision (if GPU available)\u001b[0m\u001b[0;34m\u001b[0m\u001b[0;34m\u001b[0m\u001b[0m\n\u001b[0;32m----> 5\u001b[0;31m training_args = Seq2SeqTrainingArguments(\n\u001b[0m\u001b[1;32m      6\u001b[0m     \u001b[0moutput_dir\u001b[0m\u001b[0;34m=\u001b[0m\u001b[0moutput_dir\u001b[0m\u001b[0;34m,\u001b[0m\u001b[0;34m\u001b[0m\u001b[0;34m\u001b[0m\u001b[0m\n\u001b[1;32m      7\u001b[0m     \u001b[0mevaluation_strategy\u001b[0m\u001b[0;34m=\u001b[0m\u001b[0;34m\"epoch\"\u001b[0m\u001b[0;34m,\u001b[0m\u001b[0;34m\u001b[0m\u001b[0;34m\u001b[0m\u001b[0m\n",
            "\u001b[0;31mTypeError\u001b[0m: Seq2SeqTrainingArguments.__init__() got an unexpected keyword argument 'evaluation_strategy'"
          ]
        }
      ],
      "source": [
        "steps_per_epoch = 20616\n",
        "output_dir = \"/content/drive/MyDrive/codet5_checkpoints\"  # to save model checkpoints\n",
        "\n",
        "# Training configuration for Seq2Seq model with checkpointing every quarter epoch, logging, and mixed-precision (if GPU available)\n",
        "training_args = Seq2SeqTrainingArguments(\n",
        "    output_dir=output_dir,\n",
        "    evaluation_strategy=\"epoch\",\n",
        "    save_strategy=\"steps\",\n",
        "    save_steps=steps_per_epoch // 4,  # Save halfway through epoch\n",
        "    save_total_limit=4,               # Keep last 4 checkpoints (or more if needed)\n",
        "\n",
        "    learning_rate=5e-5,\n",
        "    per_device_train_batch_size=8,\n",
        "    per_device_eval_batch_size=8,\n",
        "    num_train_epochs=3,\n",
        "    weight_decay=0.01,\n",
        "    predict_with_generate=True,\n",
        "    fp16=torch.cuda.is_available(),\n",
        "    logging_dir='./logs',\n",
        "    logging_steps=100,\n",
        "    report_to=\"none\",\n",
        ")"
      ]
    },
    {
      "cell_type": "code",
      "execution_count": null,
      "metadata": {
        "id": "d73d1c4e"
      },
      "outputs": [],
      "source": [
        "trainer = Seq2SeqTrainer(\n",
        "    model=model,\n",
        "    args=training_args,\n",
        "    train_dataset=train_dataset,\n",
        "    eval_dataset=val_dataset,\n",
        "    tokenizer=tokenizer,\n",
        ")\n",
        "\n",
        "# Resume training from checkpoint specified\n",
        "trainer.train(resume_from_checkpoint=\"/content/drive/MyDrive/codet5_checkpoints/checkpoint-41232\")\n"
      ]
    },
    {
      "cell_type": "markdown",
      "source": [
        "**UNIT TESTS**\n",
        "----------------------\n",
        "----------------------\n",
        "----------------------\n",
        "----------------------"
      ],
      "metadata": {
        "id": "ZKQe1ecttL-v"
      }
    },
    {
      "cell_type": "code",
      "source": [
        "import pytest\n",
        "from transformers import AutoTokenizer\n",
        "\n",
        "tokenizer = AutoTokenizer.from_pretrained(\"Salesforce/codet5-base\")\n",
        "\n",
        "# Sample input\n",
        "example = {\n",
        "    \"code\": \"public  int  add ( int a ,  int b )   { return a + b; }\",\n",
        "    \"docstring\": \" Adds    two  integers.  \"\n",
        "}\n",
        "\n",
        "def test_whitespace_normalization():\n",
        "    cleaned_code = normalize_whitespace(example[\"code\"])\n",
        "    cleaned_doc = normalize_whitespace(example[\"docstring\"])\n",
        "    assert \"  \" not in cleaned_code\n",
        "    assert cleaned_code.startswith(\"public int add\")\n",
        "    assert cleaned_doc == \"Adds two integers.\"\n",
        "\n",
        "def test_tokenization_keys():\n",
        "    result = preprocess(example)\n",
        "    assert \"input_ids\" in result\n",
        "    assert \"attention_mask\" in result\n",
        "    assert \"labels\" in result\n",
        "\n",
        "def test_input_truncation():\n",
        "    long_code = \"int a = 0; \" * 1000  # very long code\n",
        "    example_long = {**example, \"code\": long_code}\n",
        "    result = preprocess(example_long)\n",
        "    assert len(result[\"input_ids\"]) == max_input_length\n",
        "\n",
        "def test_label_padding_masking():\n",
        "    result = preprocess(example)\n",
        "    assert label_pad_token_id in result[\"labels\"]\n",
        "    assert tokenizer.pad_token_id not in result[\"labels\"]\n",
        "\n",
        "def test_label_truncation():\n",
        "    long_doc = \"This is a long summary. \" * 100\n",
        "    example_long = {**example, \"docstring\": long_doc}\n",
        "    result = preprocess(example_long)\n",
        "    assert len(result[\"labels\"]) == max_target_length"
      ],
      "metadata": {
        "id": "HYX4QdAzs9WY"
      },
      "execution_count": null,
      "outputs": []
    },
    {
      "cell_type": "code",
      "source": [
        "test_whitespace_normalization()\n",
        "test_tokenization_keys()\n",
        "test_input_truncation()\n",
        "test_label_padding_masking()\n",
        "test_label_truncation()"
      ],
      "metadata": {
        "id": "8yR61TNppuKV"
      },
      "execution_count": null,
      "outputs": []
    }
  ]
}